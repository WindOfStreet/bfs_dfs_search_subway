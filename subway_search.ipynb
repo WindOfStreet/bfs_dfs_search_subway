{
 "cells": [
  {
   "cell_type": "code",
   "execution_count": 1,
   "metadata": {},
   "outputs": [],
   "source": [
    "from bfsdfs import SubwaySearch\n",
    "import time"
   ]
  },
  {
   "cell_type": "markdown",
   "metadata": {},
   "source": [
    "#### 计算模型"
   ]
  },
  {
   "cell_type": "code",
   "execution_count": 3,
   "metadata": {},
   "outputs": [
    {
     "name": "stdout",
     "output_type": "stream",
     "text": [
      "最少换乘线路：['阜成门', '复兴门', '长椿街', '宣武门', '和平门', '前门', '崇文门', '北京站', '建国门']，距离为9619米。\n",
      "换乘0次，换乘车次为['2号线']。\n",
      "最短线路：['阜成门', '复兴门', '西单', '天安门西', '天安门东', '王府井', '东单', '建国门']，距离为8420米。\n",
      "换乘1次，换乘车次为['2号线', '1号线']。\n"
     ]
    }
   ],
   "source": [
    "subway = SubwaySearch()\n",
    "station_connect_path = 'data/connections.dict'\n",
    "line_stations_path = 'data/stations.dict'\n",
    "subway = SubwaySearch()\n",
    "dic = subway.create_connections(station_connect_path, line_stations_path)\n",
    "rst, dist, trans, trans_lines = subway.search_best('阜成门', '建国门', 'min_transfer')\n",
    "print('最少换乘线路：{}，距离为{}米。\\n换乘{}次，换乘车次为{}。'.format(rst, dist, trans, trans_lines))\n",
    "rst, dist, trans, trans_lines = subway.search_best('阜成门', '建国门', 'min_dist')\n",
    "print('最短线路：{}，距离为{}米。\\n换乘{}次，换乘车次为{}。'.format(rst, dist, trans, trans_lines))"
   ]
  },
  {
   "cell_type": "markdown",
   "metadata": {},
   "source": [
    "#### 从文件加载模型"
   ]
  },
  {
   "cell_type": "code",
   "execution_count": 4,
   "metadata": {},
   "outputs": [],
   "source": [
    "subway1 = SubwaySearch()\n",
    "subway1.load_data(station_connect_path, line_stations_path)"
   ]
  },
  {
   "cell_type": "code",
   "execution_count": 6,
   "metadata": {},
   "outputs": [
    {
     "name": "stdout",
     "output_type": "stream",
     "text": [
      "最短线路：['南锣鼓巷', '北海北', '平安里', '新街口', '西直门', '大钟寺', '知春路', '知春里', '海淀黄庄', '中关村']，距离为11773米。\n",
      "换乘3次，换乘车次为['6号线', '4号线', '13号线', '10号线']。\n",
      "最少换乘线路：['南锣鼓巷', '北海北', '平安里', '新街口', '西直门', '动物园', '国家图书馆', '魏公村', '人民大学', '海淀黄庄', '中关村']，距离为12425米。\n",
      "换乘1次，换乘车次为['6号线', '4号线']。\n",
      "计算用时86.282558168秒。\n"
     ]
    }
   ],
   "source": [
    "# 最少换乘与高德地图的最短时间路线一致\n",
    "# 最短路线由于换乘次数太多，高德没有此线路\n",
    "t1 = time.process_time()\n",
    "start = '南锣鼓巷'\n",
    "dest = '中关村'\n",
    "rst1, dist1, trans1, trans_line1 = subway1.search_best(start, dest, 'min_dist')\n",
    "print('最短线路：{}，距离为{}米。\\n换乘{}次，换乘车次为{}。'.format(rst1, dist1, trans1, trans_line1))\n",
    "rst2, dist2, trans2, trans_line2 = subway1.search_best(start, dest, 'min_transfer')\n",
    "print('最少换乘线路：{}，距离为{}米。\\n换乘{}次，换乘车次为{}。'.format(rst2, dist2, trans2, trans_line2))\n",
    "t2 = time.process_time()\n",
    "print('计算用时{}秒。'.format(t2-t1))"
   ]
  },
  {
   "cell_type": "code",
   "execution_count": 8,
   "metadata": {},
   "outputs": [
    {
     "name": "stdout",
     "output_type": "stream",
     "text": [
      "最短线路：['天安门东', '王府井', '东单', '灯市口', '东四', '张自忠路', '北新桥', '雍和宫', '和平里北街', '和平西桥', '惠新西街南口', '安贞门']，距离为10309米。\n",
      "换乘2次，换乘车次为['1号线', '5号线', '10号线']。\n",
      "最少换乘线路：['天安门东', '王府井', '东单', '灯市口', '东四', '张自忠路', '北新桥', '雍和宫', '和平里北街', '和平西桥', '惠新西街南口', '安贞门']，距离为10309米。\n",
      "换乘2次，换乘车次为['1号线', '5号线', '10号线']。\n",
      "计算用时101.285951436秒。\n"
     ]
    }
   ],
   "source": [
    "# 最短路线与高德地图相同\n",
    "# 最少换乘与高德相同（高德地图把最后一个换乘变成了步行，因为只有一站）\n",
    "t1 = time.process_time()\n",
    "start = '天安门东'\n",
    "dest = '安贞门'\n",
    "rst1, dist1, trans1, trans_line1 = subway1.search_best(start, dest, 'min_dist')\n",
    "print('最短线路：{}，距离为{}米。\\n换乘{}次，换乘车次为{}。'.format(rst1, dist1, trans1, trans_line1))\n",
    "rst2, dist2, trans2, trans_line2 = subway1.search_best(start, dest, 'min_transfer')\n",
    "print('最少换乘线路：{}，距离为{}米。\\n换乘{}次，换乘车次为{}。'.format(rst2, dist2, trans2, trans_line2))\n",
    "t2 = time.process_time()\n",
    "print('计算用时{}秒。'.format(t2-t1))"
   ]
  },
  {
   "cell_type": "code",
   "execution_count": 12,
   "metadata": {},
   "outputs": [
    {
     "name": "stdout",
     "output_type": "stream",
     "text": [
      "最短线路：['天宫院', '生物医药基地', '义和庄', '黄村火车站', '黄村西大街', '清源路', '枣园', '高米店南', '高米店北', '西红门', '新宫', '公益西桥', '角门西', '马家堡', '北京南站', '陶然亭', '菜市口', '宣武门', '和平门', '前门', '崇文门', '北京站', '建国门', '朝阳门', '东四十条', '东直门', '三元桥', '太阳宫']，距离为43386米。\n",
      "换乘4次，换乘车次为['大兴线', '4号线', '2号线', '机场线', '10号线']。\n",
      "最少换乘线路：['天宫院', '生物医药基地', '义和庄', '黄村火车站', '黄村西大街', '清源路', '枣园', '高米店南', '高米店北', '西红门', '新宫', '公益西桥', '角门西', '角门东', '大红门', '石榴庄', '宋家庄', '成寿寺', '分钟寺', '十里河', '潘家园', '劲松', '双井', '国贸', '金台夕照', '呼家楼', '团结湖', '农业展览馆', '亮马桥', '三元桥', '太阳宫']，距离为45157米。\n",
      "换乘2次，换乘车次为['大兴线', '4号线', '10号线']。\n",
      "计算用时1057.272877108秒。\n"
     ]
    }
   ],
   "source": [
    "# 最短路线换乘次数太多，距离也没有明显提升，可通过模型参数调节，不产生此结果\n",
    "# 最少换乘路线在高德推荐列表第一位（因为爬取数据的信息没有更新，所以显示的换乘次数为2，实际为1）\n",
    "t1 = time.process_time()\n",
    "start = '天宫院'\n",
    "dest = '太阳宫'\n",
    "rst1, dist1, trans1, trans_line1 = subway1.search_best(start, dest, 'min_dist')\n",
    "print('最短线路：{}，距离为{}米。\\n换乘{}次，换乘车次为{}。'.format(rst1, dist1, trans1, trans_line1))\n",
    "rst2, dist2, trans2, trans_line2 = subway1.search_best(start, dest, 'min_transfer')\n",
    "print('最少换乘线路：{}，距离为{}米。\\n换乘{}次，换乘车次为{}。'.format(rst2, dist2, trans2, trans_line2))\n",
    "t2 = time.process_time()\n",
    "print('计算用时{}秒。'.format(t2-t1))"
   ]
  },
  {
   "cell_type": "code",
   "execution_count": 5,
   "metadata": {},
   "outputs": [
    {
     "name": "stdout",
     "output_type": "stream",
     "text": [
      "最短线路：['国贸', '永安里', '建国门', '东单', '灯市口', '东四', '南锣鼓巷', '北海北', '平安里', '新街口', '西直门', '动物园', '国家图书馆']，距离为14880米。\n",
      "换乘3次，换乘车次为['1号线', '5号线', '6号线', '4号线']。\n",
      "最少换乘线路：['国贸', '永安里', '建国门', '东单', '王府井', '天安门东', '天安门西', '西单', '灵境胡同', '西四', '平安里', '新街口', '西直门', '动物园', '国家图书馆']，距离为15228米。\n",
      "换乘1次，换乘车次为['1号线', '4号线']。\n",
      "计算用时250.206971653秒。\n"
     ]
    }
   ],
   "source": [
    "# 最短路线同样换乘太多，但距离收益很低\n",
    "# 最少换乘在高德地图推荐列表中第二位\n",
    "t1 = time.process_time()\n",
    "start = '国贸'\n",
    "dest = '国家图书馆'\n",
    "rst1, dist1, trans1, trans_line1 = subway1.search_best(start, dest, 'min_dist')\n",
    "print('最短线路：{}，距离为{}米。\\n换乘{}次，换乘车次为{}。'.format(rst1, dist1, trans1, trans_line1))\n",
    "rst2, dist2, trans2, trans_line2 = subway1.search_best(start, dest, 'min_transfer')\n",
    "print('最少换乘线路：{}，距离为{}米。\\n换乘{}次，换乘车次为{}。'.format(rst2, dist2, trans2, trans_line2))\n",
    "t2 = time.process_time()\n",
    "print('计算用时{}秒。'.format(t2-t1))"
   ]
  }
 ],
 "metadata": {
  "kernelspec": {
   "display_name": "Conda-python3",
   "language": "python",
   "name": "conda-python3"
  },
  "language_info": {
   "codemirror_mode": {
    "name": "ipython",
    "version": 3
   },
   "file_extension": ".py",
   "mimetype": "text/x-python",
   "name": "python",
   "nbconvert_exporter": "python",
   "pygments_lexer": "ipython3",
   "version": "3.6.4"
  }
 },
 "nbformat": 4,
 "nbformat_minor": 4
}
