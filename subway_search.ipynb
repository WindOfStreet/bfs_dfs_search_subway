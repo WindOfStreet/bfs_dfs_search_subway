{
 "cells": [
  {
   "cell_type": "code",
   "execution_count": 2,
   "metadata": {},
   "outputs": [],
   "source": [
    "from bfsdfs import SubwaySearch"
   ]
  },
  {
   "cell_type": "code",
   "execution_count": 7,
   "metadata": {},
   "outputs": [
    {
     "name": "stdout",
     "output_type": "stream",
     "text": [
      "最短线路：['和平门', '前门', '崇文门', '东单', '灯市口', '东四', '张自忠路', '北新桥', '雍和宫']，距离为8092米。\n"
     ]
    }
   ],
   "source": [
    "subway = SubwaySearch()\n",
    "station_connect_path = 'data/connections.dict'\n",
    "line_stations_path = 'data/stations.dict'\n",
    "subway = SubwaySearch()\n",
    "dic = subway.create_connections(station_connect_path, line_stations_path)\n",
    "rst1, dist = subway.search_best('和平门', '雍和宫', 'min_dist')\n",
    "print('最短线路：{}，距离为{}米。'.format(rst1, dist))"
   ]
  },
  {
   "cell_type": "code",
   "execution_count": 4,
   "metadata": {},
   "outputs": [
    {
     "name": "stdout",
     "output_type": "stream",
     "text": [
      "最短线路：['和平门', '前门', '崇文门', '东单', '灯市口', '东四', '张自忠路', '北新桥', '雍和宫']，距离为8092米。\n"
     ]
    }
   ],
   "source": [
    "# 从文件加载模型\n",
    "subway1 = SubwaySearch()\n",
    "subway1.load_data(station_connect_path, line_stations_path)\n",
    "rst1, dist = subway.search_best('和平门', '雍和宫', 'min_dist')\n",
    "print('最短线路：{}，距离为{}米。'.format(rst1, dist))"
   ]
  },
  {
   "cell_type": "code",
   "execution_count": 6,
   "metadata": {},
   "outputs": [
    {
     "name": "stdout",
     "output_type": "stream",
     "text": [
      "最短线路：['花园桥', '白石桥南', '白堆子', '军事博物馆', '北京西站', '湾子']，距离为6354米。\n"
     ]
    }
   ],
   "source": [
    "#算了大概30分钟。。。\n",
    "rst1, dist = subway1.search_best('花园桥', '湾子', 'min_dist')\n",
    "print('最短线路：{}，距离为{}米。'.format(rst1, dist))"
   ]
  }
 ],
 "metadata": {
  "kernelspec": {
   "display_name": "Conda-python3",
   "language": "python",
   "name": "conda-python3"
  },
  "language_info": {
   "codemirror_mode": {
    "name": "ipython",
    "version": 3
   },
   "file_extension": ".py",
   "mimetype": "text/x-python",
   "name": "python",
   "nbconvert_exporter": "python",
   "pygments_lexer": "ipython3",
   "version": "3.6.4"
  }
 },
 "nbformat": 4,
 "nbformat_minor": 4
}
